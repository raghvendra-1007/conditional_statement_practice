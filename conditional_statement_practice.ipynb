{
 "cells": [
  {
   "cell_type": "markdown",
   "id": "864b8c72-8c88-4442-a8d3-72e63bfde47f",
   "metadata": {},
   "source": [
    "Write a program to check whether a given number is positive, negative, or zero."
   ]
  },
  {
   "cell_type": "code",
   "execution_count": 19,
   "id": "52257c15-5a9b-43c4-b80a-f7c3b8f048fa",
   "metadata": {},
   "outputs": [
    {
     "name": "stdin",
     "output_type": "stream",
     "text": [
      " 0\n"
     ]
    },
    {
     "name": "stdout",
     "output_type": "stream",
     "text": [
      "zero\n"
     ]
    }
   ],
   "source": [
    "a=(input())\n",
    "if a>0:\n",
    "    print(\"positive\")\n",
    "elif a<0:\n",
    "    print(\"negative\")\n",
    "else:\n",
    "    print(\"zero\")"
   ]
  },
  {
   "cell_type": "markdown",
   "id": "80c9cf6a-d9a9-469e-9ee1-828b4924236f",
   "metadata": {},
   "source": [
    "Write a program to check whether a given number is even or odd."
   ]
  },
  {
   "cell_type": "code",
   "execution_count": 26,
   "id": "d708f11d-a695-43aa-91e2-27cb9c3b1c1c",
   "metadata": {},
   "outputs": [
    {
     "name": "stdin",
     "output_type": "stream",
     "text": [
      " 4\n"
     ]
    },
    {
     "name": "stdout",
     "output_type": "stream",
     "text": [
      "even\n"
     ]
    }
   ],
   "source": [
    "a=int(input())\n",
    "if a%2==0:\n",
    "    print(\"even\")\n",
    "else:\n",
    "    print(\"odd\")"
   ]
  },
  {
   "cell_type": "markdown",
   "id": "01024f7b-b98e-4c14-b697-658a85afe1c2",
   "metadata": {},
   "source": [
    "Write a program that takes three numbers as input and prints the largest among them."
   ]
  },
  {
   "cell_type": "code",
   "execution_count": 31,
   "id": "34e2e547-013f-49cb-9f8c-8b51d5db66d7",
   "metadata": {},
   "outputs": [
    {
     "name": "stdin",
     "output_type": "stream",
     "text": [
      "type the value of a 7\n",
      "type the value of b 1\n",
      "type the value of c 5\n"
     ]
    },
    {
     "name": "stdout",
     "output_type": "stream",
     "text": [
      "7\n"
     ]
    }
   ],
   "source": [
    "a=int(input(\"type the value of a\"))\n",
    "b=int(input(\"type the value of b\"))\n",
    "c=int(input(\"type the value of c\"))\n",
    "if a>b:\n",
    "    if a>c:\n",
    "        print(a)\n",
    "    else:\n",
    "        print(c)\n",
    "elif b>a:\n",
    "    if b>c:\n",
    "        print(b)\n",
    "    else:\n",
    "        print(c)"
   ]
  },
  {
   "cell_type": "markdown",
   "id": "64ce60df-c7fa-4b60-bc61-7c0e9cbdcfa3",
   "metadata": {},
   "source": [
    "Write a program to check whether a year is a leap year or not."
   ]
  },
  {
   "cell_type": "code",
   "execution_count": 145,
   "id": "cd5a026c-8a94-4dc5-af4e-fd236f88d368",
   "metadata": {},
   "outputs": [
    {
     "name": "stdin",
     "output_type": "stream",
     "text": [
      "enter the year which you want to check 2024\n"
     ]
    },
    {
     "name": "stdout",
     "output_type": "stream",
     "text": [
      "it is a leap year\n"
     ]
    }
   ],
   "source": [
    "year=int(input(\"enter the year which you want to check\"))\n",
    "if year%4==0 and year%100!=0 or year%400==0:\n",
    "    print(\"it is a leap year\")\n",
    "else:\n",
    "    print(\"it is not a leap year\")"
   ]
  },
  {
   "cell_type": "markdown",
   "id": "da6aab06-b04d-424c-a08a-12b1a5b93fa8",
   "metadata": {},
   "source": [
    "Write a program that checks if a given character is a vowel or consonant."
   ]
  },
  {
   "cell_type": "code",
   "execution_count": 59,
   "id": "0ca73890-0e04-4b5a-b920-eca51e112552",
   "metadata": {},
   "outputs": [
    {
     "name": "stdin",
     "output_type": "stream",
     "text": [
      "write down a character ice\n"
     ]
    },
    {
     "name": "stdout",
     "output_type": "stream",
     "text": [
      "it's a vowel\n"
     ]
    }
   ],
   "source": [
    "a=str(input(\"write down a character\"))\n",
    "if a[0]in [\"a\",\"e\",\"i\",\"o\",\"u\"]:\n",
    "    print (\"it's a vowel\")\n",
    "else:\n",
    "    print(\"it's a constant\")"
   ]
  },
  {
   "cell_type": "markdown",
   "id": "8dc477e8-260f-4458-8b52-2c3be72ae7ce",
   "metadata": {},
   "source": [
    "Write a Python program that takes a week day number (1-7) as input and prints the corresponding day of the week."
   ]
  },
  {
   "cell_type": "code",
   "execution_count": 70,
   "id": "2db86617-e723-4f03-b4b6-505f9477d669",
   "metadata": {},
   "outputs": [
    {
     "name": "stdin",
     "output_type": "stream",
     "text": [
      "type a no. between 1-7 58\n"
     ]
    },
    {
     "name": "stdout",
     "output_type": "stream",
     "text": [
      "please enter a valid number\n"
     ]
    }
   ],
   "source": [
    "a=int(input(\"type a no. between 1-7\"))\n",
    "if a==1:\n",
    "    print(\"monday\")\n",
    "elif a==2:\n",
    "    print(\"tuesday\")\n",
    "elif a==3:\n",
    "    print(\"wednesday\")\n",
    "elif a==4:\n",
    "    print(\"thursday\")\n",
    "elif a==5:\n",
    "    print(\"friday\")\n",
    "elif a==6:\n",
    "    print(\"saturday\")\n",
    "elif a==7:\n",
    "    print(\"sunday\")\n",
    "else:\n",
    "    print(\"please enter a valid number\")"
   ]
  },
  {
   "cell_type": "markdown",
   "id": "05652a78-9024-4a62-93bb-a781ecb5ddf1",
   "metadata": {},
   "source": [
    "Write a Python program to register multiple persons by taking their birth date (day, month, and year) as input. Validate that the day (1-31), month (1-12), and year (4-digit) are within the correct range, and display the entered date of birth. If any value is invalid, print an error message and stop the process."
   ]
  },
  {
   "cell_type": "code",
   "execution_count": 3,
   "id": "b529bc6a-11bf-4f0f-b7e4-faefb08d4c09",
   "metadata": {},
   "outputs": [
    {
     "name": "stdin",
     "output_type": "stream",
     "text": [
      "enter the date of your birth 55\n",
      "enter the month of your birth 45\n",
      "enter the year of your birth 87\n"
     ]
    },
    {
     "name": "stdout",
     "output_type": "stream",
     "text": [
      "so your date of birth is 55-45-87\n"
     ]
    }
   ],
   "source": [
    "date=input(\"enter the date of your birth\")\n",
    "if not date.isdigit() or int(date)>31 and int(date)<1:\n",
    "    print(\"enter a valid date\")\n",
    "    exit()\n",
    "month=input(\"enter the month of your birth\")\n",
    "if not month.isdigit() and int(month)>12 and int(month)<1:\n",
    "    print(\"enter a valid date\")\n",
    "    exit()\n",
    "year=input(\"enter the year of your birth\")\n",
    "if not year.isdigit() and int(year)>9999 and int(year)<1000:\n",
    "    print(\"enter a valid year\")\n",
    "    exit()\n",
    "print(f\"so your date of birth is {date}-{month}-{year}\")"
   ]
  },
  {
   "cell_type": "code",
   "execution_count": null,
   "id": "82569f56-00d9-42cd-8fb0-243f57d79446",
   "metadata": {},
   "outputs": [],
   "source": []
  },
  {
   "cell_type": "code",
   "execution_count": null,
   "id": "55ff2ea7-bc0c-4af1-adab-c0770c170cd0",
   "metadata": {},
   "outputs": [],
   "source": []
  }
 ],
 "metadata": {
  "kernelspec": {
   "display_name": "Python 3 (ipykernel)",
   "language": "python",
   "name": "python3"
  },
  "language_info": {
   "codemirror_mode": {
    "name": "ipython",
    "version": 3
   },
   "file_extension": ".py",
   "mimetype": "text/x-python",
   "name": "python",
   "nbconvert_exporter": "python",
   "pygments_lexer": "ipython3",
   "version": "3.12.7"
  }
 },
 "nbformat": 4,
 "nbformat_minor": 5
}
